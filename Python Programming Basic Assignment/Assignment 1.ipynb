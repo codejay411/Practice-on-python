{
 "cells": [
  {
   "cell_type": "markdown",
   "metadata": {},
   "source": [
    "### Q.1 Write a Python program to print \"Hello Python\"?"
   ]
  },
  {
   "cell_type": "code",
   "execution_count": 1,
   "metadata": {},
   "outputs": [
    {
     "name": "stdout",
     "output_type": "stream",
     "text": [
      "Enter Input: Hello Python\n",
      "Hello Python\n"
     ]
    }
   ],
   "source": [
    "a = input(\"Enter Input: \")\n",
    "print(a)"
   ]
  },
  {
   "cell_type": "markdown",
   "metadata": {},
   "source": [
    "### Q.2 Write a Python program to do arithmetical operations addition and division.?"
   ]
  },
  {
   "cell_type": "code",
   "execution_count": 2,
   "metadata": {},
   "outputs": [
    {
     "name": "stdout",
     "output_type": "stream",
     "text": [
      "Enter Num_1: 3\n",
      "Enter Num_2: 6\n",
      "Enter Operation: addition\n",
      "addition is  9\n"
     ]
    }
   ],
   "source": [
    "a = int(input(\"Enter Num_1: \"))\n",
    "b = int(input(\"Enter Num_2: \"))\n",
    "ops = input(\"Enter Operation: \")\n",
    "if ops == \"addition\":\n",
    "    c = a+b\n",
    "    print(\"addition is \",c)\n",
    "elif ops == \"division\":\n",
    "    d = a/b\n",
    "    print(\"Division is \",d)\n",
    "else:\n",
    "    print(\"Enter correct operation\")"
   ]
  },
  {
   "cell_type": "code",
   "execution_count": 4,
   "metadata": {},
   "outputs": [
    {
     "name": "stdout",
     "output_type": "stream",
     "text": [
      "Enter Num_1: 5\n",
      "Enter Num_2: 6\n",
      "Enter Operation: division\n",
      "Division is  0.8333333333333334\n"
     ]
    }
   ],
   "source": [
    "a = int(input(\"Enter Num_1: \"))\n",
    "b = int(input(\"Enter Num_2: \"))\n",
    "ops = input(\"Enter Operation: \")\n",
    "if ops == \"addition\":\n",
    "    c = a+b\n",
    "    print(\"addition is \",c)\n",
    "elif ops == \"division\":\n",
    "    d = a/b\n",
    "    print(\"Division is \",d)\n",
    "else:\n",
    "    print(\"Enter correct operation\")"
   ]
  },
  {
   "cell_type": "code",
   "execution_count": 6,
   "metadata": {},
   "outputs": [
    {
     "name": "stdout",
     "output_type": "stream",
     "text": [
      "Enter Num_1: 45\n",
      "Enter Num_2: 45\n",
      "Enter Operation: addition\n",
      "addition is  90\n"
     ]
    }
   ],
   "source": [
    "a = int(input(\"Enter Num_1: \"))\n",
    "b = int(input(\"Enter Num_2: \"))\n",
    "ops = input(\"Enter Operation: \")\n",
    "if ops == \"addition\":\n",
    "    c = a+b\n",
    "    print(\"addition is \",c)\n",
    "elif ops == \"division\":\n",
    "    d = a/b\n",
    "    print(\"Division is \",d)\n",
    "else:\n",
    "    print(\"Enter correct operation\")"
   ]
  },
  {
   "cell_type": "markdown",
   "metadata": {},
   "source": [
    "### Q.3 Write a Python program to find the area of a triangle?"
   ]
  },
  {
   "cell_type": "code",
   "execution_count": 7,
   "metadata": {},
   "outputs": [
    {
     "name": "stdout",
     "output_type": "stream",
     "text": [
      "15.0\n"
     ]
    }
   ],
   "source": [
    "def area_of_triangle(base,height):\n",
    "    area = (base*height)/2\n",
    "    print(area)\n",
    "    \n",
    "a = area_of_triangle(5,6)"
   ]
  },
  {
   "cell_type": "markdown",
   "metadata": {},
   "source": [
    "### Q.4 Write a Python program to swap two variables?"
   ]
  },
  {
   "cell_type": "code",
   "execution_count": 8,
   "metadata": {},
   "outputs": [
    {
     "name": "stdout",
     "output_type": "stream",
     "text": [
      "Enter num_1: 23\n",
      "23\n",
      "Enter num_2: 43\n",
      "43\n",
      "43 and 23 are new valuse of x and y respectively\n"
     ]
    }
   ],
   "source": [
    "x = input(\"Enter num_1: \")\n",
    "print(x)\n",
    "y = input(\"Enter num_2: \")\n",
    "print(y)\n",
    "\n",
    "temp = x\n",
    "x = y\n",
    "y = temp\n",
    "\n",
    "print(\"{} and {} are new valuse of x and y respectively\".format(x,y))\n"
   ]
  },
  {
   "cell_type": "markdown",
   "metadata": {},
   "source": [
    "### Q.5 Write a Python program to generate a random number?"
   ]
  },
  {
   "cell_type": "code",
   "execution_count": 9,
   "metadata": {},
   "outputs": [
    {
     "name": "stdout",
     "output_type": "stream",
     "text": [
      "0.6826389709822461\n"
     ]
    }
   ],
   "source": [
    "import random\n",
    "rndno = random.random()\n",
    "print(rndno)"
   ]
  },
  {
   "cell_type": "code",
   "execution_count": null,
   "metadata": {},
   "outputs": [],
   "source": []
  }
 ],
 "metadata": {
  "kernelspec": {
   "display_name": "Python 3 (ipykernel)",
   "language": "python",
   "name": "python3"
  },
  "language_info": {
   "codemirror_mode": {
    "name": "ipython",
    "version": 3
   },
   "file_extension": ".py",
   "mimetype": "text/x-python",
   "name": "python",
   "nbconvert_exporter": "python",
   "pygments_lexer": "ipython3",
   "version": "3.8.9"
  }
 },
 "nbformat": 4,
 "nbformat_minor": 4
}
