{
 "cells": [
  {
   "cell_type": "markdown",
   "id": "0ebe1730",
   "metadata": {},
   "source": [
    "### 1. Is the Python Standard Library included with PyInputPlus?"
   ]
  },
  {
   "cell_type": "markdown",
   "id": "8e165aa9",
   "metadata": {},
   "source": [
    "it is not a part of python standard library"
   ]
  },
  {
   "cell_type": "markdown",
   "id": "3eedc6f0",
   "metadata": {},
   "source": [
    "### 2. Why is PyInputPlus commonly imported with import pyinputplus as pypi?\n"
   ]
  },
  {
   "cell_type": "markdown",
   "id": "58b42d2b",
   "metadata": {},
   "source": [
    "this piece of code help us save time from calling each time we want to use pyinputplus where pypi is allias"
   ]
  },
  {
   "cell_type": "markdown",
   "id": "2989e8ed",
   "metadata": {},
   "source": [
    "### 3. How do you distinguish between inputInt() and inputFloat()?\n"
   ]
  },
  {
   "cell_type": "markdown",
   "id": "e7e37bd5",
   "metadata": {},
   "source": [
    "    inputInt() is for integers i.e number without decimal\n",
    "    where as inputFloat() belongs to float class i.e with decimal."
   ]
  },
  {
   "cell_type": "markdown",
   "id": "34780cd4",
   "metadata": {},
   "source": [
    "### 4. Using PyInputPlus, how do you ensure that the user enters a whole number between 0 and 99?\n"
   ]
  },
  {
   "cell_type": "markdown",
   "id": "6f3d9fc3",
   "metadata": {},
   "source": [
    "a = pyip.inputNum('>', min=0, lessThan=99)"
   ]
  },
  {
   "cell_type": "markdown",
   "id": "72ff183a",
   "metadata": {},
   "source": [
    "### 5. What is transferred to the keyword arguments allowRegexes and blockRegexes?\n"
   ]
  },
  {
   "cell_type": "markdown",
   "id": "43151efd",
   "metadata": {},
   "source": [
    "    we can use allowRegexes and blockRegexes keyword arguments to take list of regular expression strings to determine\n",
    "    what the pyinputplus function will reject or accept valid input."
   ]
  },
  {
   "cell_type": "code",
   "execution_count": null,
   "id": "8c906ee4",
   "metadata": {},
   "outputs": [],
   "source": []
  },
  {
   "cell_type": "code",
   "execution_count": 11,
   "id": "7949d79b",
   "metadata": {},
   "outputs": [
    {
     "name": "stdout",
     "output_type": "stream",
     "text": [
      "jay\n"
     ]
    }
   ],
   "source": [
    "#for example:\n",
    "import pyinputplus as pyip\n",
    "\n",
    "a = pyip.inputStr(allowRegexes=[r'jay', 'prakash'],blockRegexes=[r'chanchal'])"
   ]
  },
  {
   "cell_type": "markdown",
   "id": "f82c447a",
   "metadata": {},
   "source": [
    "### 6. If a blank input is entered three times, what does inputStr(limit=3) do?\n"
   ]
  },
  {
   "cell_type": "markdown",
   "id": "5ee28ac7",
   "metadata": {},
   "source": [
    "    it will give this error:\n",
    "        pyinputplus.RetryLimitException"
   ]
  },
  {
   "cell_type": "markdown",
   "id": "89d76f04",
   "metadata": {},
   "source": [
    "### 7. If blank input is entered three times, what does inputStr(limit=3, default=&#39;hello&#39;) do?"
   ]
  },
  {
   "cell_type": "markdown",
   "id": "2ee1213f",
   "metadata": {},
   "source": [
    "    Instead of raising RetryLimitException, the inputNum() function simply returns the string 'hello'."
   ]
  },
  {
   "cell_type": "code",
   "execution_count": null,
   "id": "60011b75",
   "metadata": {},
   "outputs": [],
   "source": []
  }
 ],
 "metadata": {
  "kernelspec": {
   "display_name": "Python 3 (ipykernel)",
   "language": "python",
   "name": "python3"
  },
  "language_info": {
   "codemirror_mode": {
    "name": "ipython",
    "version": 3
   },
   "file_extension": ".py",
   "mimetype": "text/x-python",
   "name": "python",
   "nbconvert_exporter": "python",
   "pygments_lexer": "ipython3",
   "version": "3.8.9"
  }
 },
 "nbformat": 4,
 "nbformat_minor": 5
}
