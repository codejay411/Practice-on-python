{
 "cells": [
  {
   "cell_type": "markdown",
   "id": "d38f7ce0",
   "metadata": {},
   "source": [
    "<h3>Q1</h3>\n",
    "<b>What is the result of the code, and explain?\n",
    "<pre>\n",
    "X = 'iNeuron'\n",
    "def func():\n",
    "    print(X)"
   ]
  },
  {
   "cell_type": "code",
   "execution_count": 1,
   "id": "28f96397",
   "metadata": {},
   "outputs": [
    {
     "name": "stdout",
     "output_type": "stream",
     "text": [
      "iNeuron\n"
     ]
    }
   ],
   "source": [
    "X = 'iNeuron'\n",
    "def func():\n",
    "    print(X)\n",
    "func()"
   ]
  },
  {
   "cell_type": "markdown",
   "id": "614540f6",
   "metadata": {},
   "source": [
    "<pre>\n",
    "The X defined outside the function is accessible everywhere\n",
    "The same same X value is passed to the fuction; so when the function is called; it will return the same value"
   ]
  },
  {
   "cell_type": "markdown",
   "id": "11ba69ab",
   "metadata": {},
   "source": [
    "<h3>Q2</h3>\n",
    "<b>What is the result of the code, and explain?\n",
    "\n",
    "<pre>\n",
    "X = 'iNeuron'\n",
    "\n",
    "def func():\n",
    "    X = 'NI!'\n",
    "\n",
    "func()\n",
    "print(X)"
   ]
  },
  {
   "cell_type": "code",
   "execution_count": 3,
   "id": "7b7aaa90",
   "metadata": {},
   "outputs": [],
   "source": [
    "X = 'iNeuron'\n",
    "\n",
    "def func():\n",
    "    X = 'NI!'"
   ]
  },
  {
   "cell_type": "code",
   "execution_count": 4,
   "id": "e0c80417",
   "metadata": {},
   "outputs": [
    {
     "name": "stdout",
     "output_type": "stream",
     "text": [
      "Value of X inside a function :: None\n",
      "Value of X publicly defined  :: iNeuron\n"
     ]
    }
   ],
   "source": [
    "print(f'Value of X inside a function :: {func()}')\n",
    "print(f'Value of X publicly defined  :: {X}')"
   ]
  },
  {
   "cell_type": "markdown",
   "id": "0dda6a9c",
   "metadata": {},
   "source": [
    "<pre>\n",
    "The X defined outside the function is accessible everywhere\n",
    "BUT\n",
    "The X defined within the the function acan only be accessed when the function is called"
   ]
  },
  {
   "cell_type": "markdown",
   "id": "1f6ec50a",
   "metadata": {},
   "source": [
    "<h3>Q3</h3>\n",
    "<b>What does this code print, and why?\n",
    "<pre>\n",
    "X = 'iNeuron'\n",
    "def func():\n",
    "    X = 'NI!'\n",
    "    print(X)\n",
    "\n",
    "func()\n",
    "print(X)"
   ]
  },
  {
   "cell_type": "code",
   "execution_count": 7,
   "id": "3ceaeab0",
   "metadata": {},
   "outputs": [
    {
     "name": "stdout",
     "output_type": "stream",
     "text": [
      "NI!\n",
      "iNeuron\n"
     ]
    }
   ],
   "source": [
    "X = 'iNeuron'\n",
    "def func():\n",
    "    X = 'NI!'\n",
    "    print(X)\n",
    "\n",
    "func()\n",
    "print(X)"
   ]
  },
  {
   "cell_type": "markdown",
   "id": "f27d3261",
   "metadata": {},
   "source": [
    "<pre>\n",
    "The X defined outside the function is accessible everywhere\n",
    "so print(X) will print the answers as iNeuron\n",
    "To add on; this value can be accessible anywhere\n",
    "\n",
    "BUT\n",
    "\n",
    "The X defined within the the function acan only be accessed when the function is called\n",
    "SInce a seperae value is defined for X within the function it will return the value assigned\n",
    "i.e. 'NI!'\n",
    "To add on; this value cannot be accessible outside the function"
   ]
  },
  {
   "cell_type": "markdown",
   "id": "7ad7c5c3",
   "metadata": {},
   "source": [
    "<h3>Q4</h3>\n",
    "<b>What output does this code produce? Why?\n",
    "<pre>\n",
    "X = 'iNeuron'\n",
    "def func():\n",
    "    global X\n",
    "    X = 'NI!'\n",
    "    print(X)\n",
    "\n",
    "func()\n",
    "print(X)"
   ]
  },
  {
   "cell_type": "code",
   "execution_count": 8,
   "id": "07f5710a",
   "metadata": {},
   "outputs": [
    {
     "name": "stdout",
     "output_type": "stream",
     "text": [
      "NI!\n",
      "NI!\n"
     ]
    }
   ],
   "source": [
    "X = 'iNeuron'\n",
    "def func():\n",
    "    global X\n",
    "    X = 'NI!'\n",
    "    print(X)\n",
    "\n",
    "func()\n",
    "print(X)"
   ]
  },
  {
   "cell_type": "markdown",
   "id": "8b6a8a1c",
   "metadata": {},
   "source": [
    "<pre>The X defined within the function is a global variable ; therefore the initial value of x = 'iNeuron' will be overridden"
   ]
  },
  {
   "cell_type": "markdown",
   "id": "7904bc39",
   "metadata": {},
   "source": [
    "<h3>Q5</h3>\n",
    "<b>What about this code—what’s the output, and why?\n",
    "<pre>\n",
    "X = 'iNeuron'\n",
    "def func():\n",
    "    X = 'NI'\n",
    "def nested():\n",
    "    print(X)\n",
    "\n",
    "nested()\n",
    "func()\n",
    "X"
   ]
  },
  {
   "cell_type": "code",
   "execution_count": 9,
   "id": "42dd2c1b",
   "metadata": {},
   "outputs": [
    {
     "name": "stdout",
     "output_type": "stream",
     "text": [
      "iNeuron\n",
      "Output of nested function :: None\n",
      "Output of nested function :: None\n",
      "iNeuron\n"
     ]
    }
   ],
   "source": [
    "X = 'iNeuron'\n",
    "def func():\n",
    "    X = 'NI'\n",
    "def nested():\n",
    "    print(X)\n",
    "\n",
    "print(f'Output of nested function :: {nested()}')\n",
    "print(f'Output of nested function :: {func()}')    \n",
    "print(X)"
   ]
  },
  {
   "cell_type": "markdown",
   "id": "8f3192ba",
   "metadata": {},
   "source": [
    "<pre>\n",
    "The nested() function will print 'iNeuron', \n",
    "Then func() does not display anything, and x ='NI' is not accessible out side the function.\n"
   ]
  },
  {
   "cell_type": "markdown",
   "id": "b7e0c18c",
   "metadata": {},
   "source": [
    "<h3>Q6</h3>\n",
    "<b>How about this code: what is its output in Python 3, and explain?\n",
    "<pre>\n",
    "X = 'kkl'\n",
    "def func():\n",
    "    X = 'NI'\n",
    "    def nested():\n",
    "        nonlocal X\n",
    "        X = 'spam'\n",
    "    nested()\n",
    "    print(X)\n",
    "\n",
    "func()"
   ]
  },
  {
   "cell_type": "code",
   "execution_count": 11,
   "id": "b2ea44c5",
   "metadata": {},
   "outputs": [
    {
     "name": "stdout",
     "output_type": "stream",
     "text": [
      "spam\n"
     ]
    }
   ],
   "source": [
    "# How about this code: what is its output in Python 3, and explain?\n",
    "X = 'kkl'\n",
    "def func():\n",
    "    X = 'NI'\n",
    "    def nested():\n",
    "        nonlocal X\n",
    "        X = 'spam'\n",
    "    nested()\n",
    "    print(X)\n",
    "\n",
    "func()"
   ]
  },
  {
   "cell_type": "markdown",
   "id": "8db1d0bc",
   "metadata": {},
   "source": [
    "<pre>\n",
    "Nonlocal variables are utilised in nested functions with an undefined local scope.\n",
    "This indicates the variable can't be in both the local and global scopes. It prints the nested function's updated value."
   ]
  },
  {
   "cell_type": "code",
   "execution_count": null,
   "id": "c3567a18",
   "metadata": {},
   "outputs": [],
   "source": []
  },
  {
   "cell_type": "code",
   "execution_count": null,
   "id": "48016095",
   "metadata": {},
   "outputs": [],
   "source": []
  }
 ],
 "metadata": {
  "kernelspec": {
   "display_name": "Python 3 (ipykernel)",
   "language": "python",
   "name": "python3"
  },
  "language_info": {
   "codemirror_mode": {
    "name": "ipython",
    "version": 3
   },
   "file_extension": ".py",
   "mimetype": "text/x-python",
   "name": "python",
   "nbconvert_exporter": "python",
   "pygments_lexer": "ipython3",
   "version": "3.8.9"
  }
 },
 "nbformat": 4,
 "nbformat_minor": 5
}
