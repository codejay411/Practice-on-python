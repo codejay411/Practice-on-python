{
 "cells": [
  {
   "cell_type": "markdown",
   "id": "2a82762b",
   "metadata": {},
   "source": [
    "<h3>Q1</h3>\n",
    "<b><pre>What is the result of the code, and why?\n",
    ">>> def func(a, b=6, c=8):\n",
    "print(a, b, c)\n",
    ">>> func(1, 2)"
   ]
  },
  {
   "cell_type": "code",
   "execution_count": 1,
   "id": "2bb3c8a9",
   "metadata": {},
   "outputs": [
    {
     "name": "stdout",
     "output_type": "stream",
     "text": [
      "1 2 8\n"
     ]
    }
   ],
   "source": [
    "def func(a, b=6, c=8):\n",
    "    print(a, b, c)\n",
    "\n",
    "func(1, 2)"
   ]
  },
  {
   "cell_type": "markdown",
   "id": "904f292f",
   "metadata": {},
   "source": [
    "<pre>\n",
    "The function is having one positional argument and two keyword arguemnts.\n",
    "The function has passed (1,2) which will be assigned to a and b respectively i.e. a=1 and b=2\n",
    "\n",
    "and the value of c will be taken by default i.e. c = 8\n",
    "\n",
    "so the final output will be 1 2 8 for a b c respectively"
   ]
  },
  {
   "cell_type": "markdown",
   "id": "e2990389",
   "metadata": {},
   "source": [
    "<h3>Q2</h3>\n",
    "<b><pre>What is the result of this code, and why?\n",
    ">>> def func(a, b, c=5):\n",
    "print(a, b, c)\n",
    ">>> func(1, c=3, b=2)"
   ]
  },
  {
   "cell_type": "markdown",
   "id": "fdf12191",
   "metadata": {},
   "source": [
    "<pre>\n",
    "The function is having two positional arguments and one keyword arguemnt.\n",
    "\n",
    "The function has passed (1,c=3, b=2) which will be assigned to a i.e. 1, c=3 and b=2.\n",
    "\n",
    "so the final output will be 1 2 3 for a b c respectively"
   ]
  },
  {
   "cell_type": "code",
   "execution_count": 3,
   "id": "17c0dfa6",
   "metadata": {},
   "outputs": [
    {
     "name": "stdout",
     "output_type": "stream",
     "text": [
      "1 2 3\n"
     ]
    }
   ],
   "source": [
    "def func(a, b, c=5):\n",
    "    print(a, b, c)\n",
    "func(1, c=3, b=2)"
   ]
  },
  {
   "cell_type": "markdown",
   "id": "4c9acc25",
   "metadata": {},
   "source": [
    "<h3>Q3</h3>\n",
    "<b><pre>How about this code: what is its result, and why?\n",
    ">>> def func(a, *pargs):\n",
    "print(a, pargs)\n",
    ">>> func(1, 2, 3)"
   ]
  },
  {
   "cell_type": "code",
   "execution_count": 4,
   "id": "9baa6c28",
   "metadata": {},
   "outputs": [
    {
     "name": "stdout",
     "output_type": "stream",
     "text": [
      "1 (2, 3)\n"
     ]
    }
   ],
   "source": [
    "def func(a, *pargs):\n",
    "    print(a, pargs)\n",
    "func(1, 2, 3)"
   ]
  },
  {
   "cell_type": "markdown",
   "id": "ff87ee9b",
   "metadata": {},
   "source": [
    "<pre>The return type of *args parameter is tuple, where as **kargs will be dictionary"
   ]
  },
  {
   "cell_type": "markdown",
   "id": "3637b51a",
   "metadata": {},
   "source": [
    "<h3>Q4</h3>\n",
    "<b><pre>What does this code print, and why?\n",
    ">>> def func(a, **kargs):\n",
    "print(a, kargs)\n",
    ">>> func(a=1, c=3, b=2)"
   ]
  },
  {
   "cell_type": "code",
   "execution_count": 5,
   "id": "51f7215f",
   "metadata": {},
   "outputs": [
    {
     "name": "stdout",
     "output_type": "stream",
     "text": [
      "1 {'c': 3, 'b': 2}\n"
     ]
    }
   ],
   "source": [
    "def func(a, **kargs):\n",
    "    print(a, kargs)\n",
    "func(a=1, c=3, b=2)"
   ]
  },
  {
   "cell_type": "markdown",
   "id": "813855a4",
   "metadata": {},
   "source": [
    "<pre>Since this is a keyword argument; it wil return a dictionary as an output"
   ]
  },
  {
   "cell_type": "markdown",
   "id": "4e24076c",
   "metadata": {},
   "source": [
    "<h3>Q5</h3>\n",
    "<b><pre>What gets printed by this, and explain?\n",
    "def func(a, b, c=8, d=5): \n",
    "    print(a, b, c, d)\n",
    "func(1, *(5, 6))"
   ]
  },
  {
   "cell_type": "code",
   "execution_count": 6,
   "id": "95ba84fa",
   "metadata": {},
   "outputs": [
    {
     "name": "stdout",
     "output_type": "stream",
     "text": [
      "1 5 6 5\n"
     ]
    }
   ],
   "source": [
    "def func(a, b, c=8, d=5): \n",
    "    print(a, b, c, d)\n",
    "func(1, *(5, 6))"
   ]
  },
  {
   "cell_type": "markdown",
   "id": "5e6edf59",
   "metadata": {},
   "source": [
    "<pre>\n",
    "The positinal parameter 1 is assingned to a. as the other argument is a tuple (5,6), to pass it the function func()\n",
    "the tuple value is unpacked using *(5,6). \n",
    "\n",
    "The unpacked tuple values are passed to positional parameters b,c respectively, in order i.e b=5, c=6, and d has a \n",
    "default value 5.\n",
    "\n",
    "Hence the result 1 5 6 5 is returned.\n"
   ]
  },
  {
   "cell_type": "markdown",
   "id": "8999d87d",
   "metadata": {},
   "source": [
    "<h3>Q6</h3>\n",
    "<b><pre>what is the result of this, and explain?\n",
    "def func(a, b, c): \n",
    "    a = 2; b[0] = 'x'; c['a'] = 'y'\n",
    "    \n",
    "l=1; m=[1]; n={'a':0}\n",
    "func(l, m, n)\n",
    "\n",
    "l, m, n"
   ]
  },
  {
   "cell_type": "code",
   "execution_count": 7,
   "id": "ae474934",
   "metadata": {},
   "outputs": [
    {
     "data": {
      "text/plain": [
       "(1, ['x'], {'a': 'y'})"
      ]
     },
     "execution_count": 7,
     "metadata": {},
     "output_type": "execute_result"
    }
   ],
   "source": [
    "def func(a, b, c): \n",
    "    a = 2 \n",
    "    b[0] = 'x' \n",
    "    c['a'] = 'y'\n",
    "    \n",
    "l = 1 \n",
    "m = [1] \n",
    "n = {'a':0}\n",
    "\n",
    "func(l, m, n)\n",
    "\n",
    "l, m, n"
   ]
  },
  {
   "cell_type": "markdown",
   "id": "0655c388",
   "metadata": {},
   "source": [
    "<pre>\n",
    "The return value of a = 2\n",
    "The return value of b i.e. b[0] ='x'\n",
    "The return value of c i.e. c['a']= y;\n",
    "\n",
    "So based on the input the output will be :: 1 ['x'] {'a': 'y'} for a b c respectively"
   ]
  },
  {
   "cell_type": "code",
   "execution_count": null,
   "id": "6ebc7c9a",
   "metadata": {},
   "outputs": [],
   "source": []
  },
  {
   "cell_type": "code",
   "execution_count": null,
   "id": "fbeb55c6",
   "metadata": {},
   "outputs": [],
   "source": []
  }
 ],
 "metadata": {
  "kernelspec": {
   "display_name": "Python 3 (ipykernel)",
   "language": "python",
   "name": "python3"
  },
  "language_info": {
   "codemirror_mode": {
    "name": "ipython",
    "version": 3
   },
   "file_extension": ".py",
   "mimetype": "text/x-python",
   "name": "python",
   "nbconvert_exporter": "python",
   "pygments_lexer": "ipython3",
   "version": "3.8.9"
  }
 },
 "nbformat": 4,
 "nbformat_minor": 5
}
