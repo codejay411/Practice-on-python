{
 "cells": [
  {
   "cell_type": "markdown",
   "id": "ca576f19",
   "metadata": {},
   "source": [
    "<h3>Q1</h3>\n",
    "<b> Add the current date to the text file today.txt as a string."
   ]
  },
  {
   "cell_type": "code",
   "execution_count": 3,
   "id": "16fdba37",
   "metadata": {},
   "outputs": [],
   "source": [
    "import datetime\n",
    "todays_date = datetime.datetime.now().strftime('%Y %m %d')\n",
    "\n",
    "file = open('today.txt', 'w')\n",
    "file.write(str(todays_date))\n",
    "file.close()"
   ]
  },
  {
   "cell_type": "markdown",
   "id": "480f798d",
   "metadata": {},
   "source": [
    "<h3>Q2</h3>\n",
    "<b>Read the text file today.txt into the string today_string"
   ]
  },
  {
   "cell_type": "code",
   "execution_count": 5,
   "id": "dfae24a0",
   "metadata": {},
   "outputs": [
    {
     "name": "stdout",
     "output_type": "stream",
     "text": [
      "2021 12 28\n"
     ]
    }
   ],
   "source": [
    "file = open('today.txt', 'r')\n",
    "today_string = file.read()\n",
    "print(today_string)\n",
    "file.close()"
   ]
  },
  {
   "cell_type": "markdown",
   "id": "b00bf4a2",
   "metadata": {},
   "source": [
    "<h3>Q3</h3>\n",
    "<b>Parse the date from today_string."
   ]
  },
  {
   "cell_type": "code",
   "execution_count": 6,
   "id": "590f80f4",
   "metadata": {},
   "outputs": [
    {
     "data": {
      "text/plain": [
       "datetime.datetime(2021, 12, 28, 0, 0)"
      ]
     },
     "execution_count": 6,
     "metadata": {},
     "output_type": "execute_result"
    }
   ],
   "source": [
    "format = '%Y %m %d'\n",
    "datetime.datetime.strptime(today_string,format)\n"
   ]
  },
  {
   "cell_type": "markdown",
   "id": "2a085199",
   "metadata": {},
   "source": [
    "<h3>Q4</h3>\n",
    "<b>List the files in your current directory\n"
   ]
  },
  {
   "cell_type": "code",
   "execution_count": 9,
   "id": "c40d3a68",
   "metadata": {},
   "outputs": [
    {
     "data": {
      "text/plain": [
       "['.ipynb_checkpoints',\n",
       " 'abc.zip',\n",
       " 'Assignment 1.ipynb',\n",
       " 'Assignment 10.ipynb',\n",
       " 'Assignment 11.ipynb',\n",
       " 'Assignment 12.ipynb',\n",
       " 'Assignment 13.ipynb',\n",
       " 'Assignment 14.ipynb',\n",
       " 'Assignment 15.ipynb',\n",
       " 'Assignment 16.ipynb',\n",
       " 'Assignment 17.ipynb',\n",
       " 'Assignment 18.ipynb',\n",
       " 'Assignment 19.ipynb',\n",
       " 'Assignment 2.ipynb',\n",
       " 'Assignment 20.ipynb',\n",
       " 'Assignment 21.ipynb',\n",
       " 'Assignment 3.ipynb',\n",
       " 'Assignment 4.ipynb',\n",
       " 'Assignment 5.ipynb',\n",
       " 'Assignment 6.ipynb',\n",
       " 'Assignment 7.ipynb',\n",
       " 'Assignment 8.ipynb',\n",
       " 'Assignment 9.ipynb',\n",
       " 'books.csv',\n",
       " 'hello.docx',\n",
       " 'hellothere.docx',\n",
       " 'pic.jpg',\n",
       " 'test.txt',\n",
       " 'today.txt',\n",
       " 'trial.txt',\n",
       " 'wwww.csv',\n",
       " 'zoo.py',\n",
       " '__pycache__']"
      ]
     },
     "execution_count": 9,
     "metadata": {},
     "output_type": "execute_result"
    }
   ],
   "source": [
    "import os\n",
    "os.listdir()"
   ]
  },
  {
   "cell_type": "markdown",
   "id": "34f51042",
   "metadata": {},
   "source": [
    "<h3>Q5</h3>\n",
    "<b>Create a list of all of the files in your parent directory (minimum five files should be available)."
   ]
  },
  {
   "cell_type": "code",
   "execution_count": 10,
   "id": "eef23b42",
   "metadata": {},
   "outputs": [
    {
     "name": "stdout",
     "output_type": "stream",
     "text": [
      "['.ipynb_checkpoints', 'abc.zip', 'Assignment 1.ipynb', 'Assignment 10.ipynb', 'Assignment 11.ipynb', 'Assignment 12.ipynb', 'Assignment 13.ipynb', 'Assignment 14.ipynb', 'Assignment 15.ipynb', 'Assignment 16.ipynb', 'Assignment 17.ipynb', 'Assignment 18.ipynb', 'Assignment 19.ipynb', 'Assignment 2.ipynb', 'Assignment 20.ipynb', 'Assignment 21.ipynb', 'Assignment 3.ipynb', 'Assignment 4.ipynb', 'Assignment 5.ipynb', 'Assignment 6.ipynb', 'Assignment 7.ipynb', 'Assignment 8.ipynb', 'Assignment 9.ipynb', 'books.csv', 'hello.docx', 'hellothere.docx', 'pic.jpg', 'test.txt', 'today.txt', 'trial.txt', 'wwww.csv', 'zoo.py', '__pycache__']\n"
     ]
    }
   ],
   "source": [
    "file_list=[]\n",
    "\n",
    "for files in os.listdir():\n",
    "    file_list.append(files)\n",
    "    \n",
    "print(file_list)"
   ]
  },
  {
   "cell_type": "markdown",
   "id": "26ee3a91",
   "metadata": {},
   "source": [
    "<h3>Q6</h3>\n",
    "<b>Use multiprocessing to create three separate processes. Make each one wait a random number of seconds between one and five, print the current time, and then exit."
   ]
  },
  {
   "cell_type": "code",
   "execution_count": 11,
   "id": "c83c82c1",
   "metadata": {},
   "outputs": [
    {
     "name": "stdout",
     "output_type": "stream",
     "text": [
      "Hii This is task - 1\n",
      "2021-12-28 12:43:15.252872\n",
      "\n",
      "Hii This is task - 2\n",
      "2021-12-28 12:43:25.264660\n",
      "\n",
      "Hii This is task - 3\n",
      "2021-12-28 12:43:35.272644\n"
     ]
    }
   ],
   "source": [
    "import time\n",
    "print('Hii This is task - 1')\n",
    "print(datetime.datetime.now())\n",
    "\n",
    "time.sleep(10)\n",
    "\n",
    "print(f'\\nHii This is task - 2')\n",
    "print(datetime.datetime.now())\n",
    "\n",
    "time.sleep(10)\n",
    "\n",
    "print(f'\\nHii This is task - 3')\n",
    "print(datetime.datetime.now())"
   ]
  },
  {
   "cell_type": "markdown",
   "id": "4a4a2870",
   "metadata": {},
   "source": [
    "<h3>Q7</h3>\n",
    "<b>Create a date object of your day of birth."
   ]
  },
  {
   "cell_type": "code",
   "execution_count": 12,
   "id": "dce533c6",
   "metadata": {},
   "outputs": [],
   "source": [
    "dob = datetime.date(1990,1,1)"
   ]
  },
  {
   "cell_type": "code",
   "execution_count": 13,
   "id": "9eff3ae8",
   "metadata": {},
   "outputs": [
    {
     "name": "stdout",
     "output_type": "stream",
     "text": [
      "DOB :: 1990-01-01\n"
     ]
    }
   ],
   "source": [
    "print(\"DOB :: {}\".format(dob))"
   ]
  },
  {
   "cell_type": "markdown",
   "id": "b89e7e0e",
   "metadata": {},
   "source": [
    "<h3>Q8</h3>\n",
    "<b>What day of the week was your day of birth?"
   ]
  },
  {
   "cell_type": "code",
   "execution_count": 14,
   "id": "512bf49a",
   "metadata": {},
   "outputs": [
    {
     "data": {
      "text/plain": [
       "'Monday'"
      ]
     },
     "execution_count": 14,
     "metadata": {},
     "output_type": "execute_result"
    }
   ],
   "source": [
    "dob.strftime('%A')"
   ]
  },
  {
   "cell_type": "markdown",
   "id": "ee68cb7a",
   "metadata": {},
   "source": [
    "<h3>Q9</h3>\n",
    "<b>When will you be (or when were you) 10,000 days old?"
   ]
  },
  {
   "cell_type": "code",
   "execution_count": 15,
   "id": "ac78f408",
   "metadata": {},
   "outputs": [
    {
     "name": "stdout",
     "output_type": "stream",
     "text": [
      "After 10000 days from Date of Birth, it will be 2017-05-19\n"
     ]
    }
   ],
   "source": [
    "from datetime import timedelta\n",
    "\n",
    "day_10k = dob + timedelta(days=10000)\n",
    "\n",
    "print(\"After 10000 days from Date of Birth, it will be {}\".format(day_10k))"
   ]
  },
  {
   "cell_type": "code",
   "execution_count": null,
   "id": "cd54a40b",
   "metadata": {},
   "outputs": [],
   "source": []
  }
 ],
 "metadata": {
  "kernelspec": {
   "display_name": "Python 3 (ipykernel)",
   "language": "python",
   "name": "python3"
  },
  "language_info": {
   "codemirror_mode": {
    "name": "ipython",
    "version": 3
   },
   "file_extension": ".py",
   "mimetype": "text/x-python",
   "name": "python",
   "nbconvert_exporter": "python",
   "pygments_lexer": "ipython3",
   "version": "3.8.9"
  }
 },
 "nbformat": 4,
 "nbformat_minor": 5
}
